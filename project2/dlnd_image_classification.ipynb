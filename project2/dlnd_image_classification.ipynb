{
 "cells": [
  {
   "cell_type": "markdown",
   "metadata": {
    "collapsed": true
   },
   "source": [
    "# Image Classification\n",
    "In this project, you'll classify images from the [CIFAR-10 dataset](https://www.cs.toronto.edu/~kriz/cifar.html).  The dataset consists of airplanes, dogs, cats, and other objects. You'll preprocess the images, then train a convolutional neural network on all the samples. The images need to be normalized and the labels need to be one-hot encoded.  You'll get to apply what you learned and build a convolutional, max pooling, dropout, and fully connected layers.  At the end, you'll get to see your neural network's predictions on the sample images.\n",
    "## Get the Data\n",
    "Run the following cell to download the [CIFAR-10 dataset for python](https://www.cs.toronto.edu/~kriz/cifar-10-python.tar.gz)."
   ]
  },
  {
   "cell_type": "code",
   "execution_count": 1,
   "metadata": {
    "collapsed": false
   },
   "outputs": [
    {
     "name": "stdout",
     "output_type": "stream",
     "text": [
      "All files found!\n"
     ]
    }
   ],
   "source": [
    "\"\"\"\n",
    "DON'T MODIFY ANYTHING IN THIS CELL THAT IS BELOW THIS LINE\n",
    "\"\"\"\n",
    "from urllib.request import urlretrieve\n",
    "from os.path import isfile, isdir\n",
    "from tqdm import tqdm\n",
    "import problem_unittests as tests\n",
    "import tarfile\n",
    "\n",
    "cifar10_dataset_folder_path = 'cifar-10-batches-py'\n",
    "\n",
    "# Use Floyd's cifar-10 dataset if present\n",
    "floyd_cifar10_location = '/cifar/cifar-10-python.tar.gz'\n",
    "if isfile(floyd_cifar10_location):\n",
    "    tar_gz_path = floyd_cifar10_location\n",
    "else:\n",
    "    tar_gz_path = 'cifar-10-python.tar.gz'\n",
    "\n",
    "class DLProgress(tqdm):\n",
    "    last_block = 0\n",
    "\n",
    "    def hook(self, block_num=1, block_size=1, total_size=None):\n",
    "        self.total = total_size\n",
    "        self.update((block_num - self.last_block) * block_size)\n",
    "        self.last_block = block_num\n",
    "\n",
    "if not isfile(tar_gz_path):\n",
    "    with DLProgress(unit='B', unit_scale=True, miniters=1, desc='CIFAR-10 Dataset') as pbar:\n",
    "        urlretrieve(\n",
    "            'https://www.cs.toronto.edu/~kriz/cifar-10-python.tar.gz',\n",
    "            tar_gz_path,\n",
    "            pbar.hook)\n",
    "\n",
    "if not isdir(cifar10_dataset_folder_path):\n",
    "    with tarfile.open(tar_gz_path) as tar:\n",
    "        tar.extractall()\n",
    "        tar.close()\n",
    "\n",
    "\n",
    "tests.test_folder_path(cifar10_dataset_folder_path)"
   ]
  },
  {
   "cell_type": "markdown",
   "metadata": {},
   "source": [
    "## Explore the Data\n",
    "The dataset is broken into batches to prevent your machine from running out of memory.  The CIFAR-10 dataset consists of 5 batches, named `data_batch_1`, `data_batch_2`, etc.. Each batch contains the labels and images that are one of the following:\n",
    "* airplane\n",
    "* automobile\n",
    "* bird\n",
    "* cat\n",
    "* deer\n",
    "* dog\n",
    "* frog\n",
    "* horse\n",
    "* ship\n",
    "* truck\n",
    "\n",
    "Understanding a dataset is part of making predictions on the data.  Play around with the code cell below by changing the `batch_id` and `sample_id`. The `batch_id` is the id for a batch (1-5). The `sample_id` is the id for a image and label pair in the batch.\n",
    "\n",
    "Ask yourself \"What are all possible labels?\", \"What is the range of values for the image data?\", \"Are the labels in order or random?\".  Answers to questions like these will help you preprocess the data and end up with better predictions."
   ]
  },
  {
   "cell_type": "code",
   "execution_count": 2,
   "metadata": {
    "collapsed": false
   },
   "outputs": [
    {
     "name": "stdout",
     "output_type": "stream",
     "text": [
      "\n",
      "Stats of batch 5:\n",
      "Samples: 10000\n",
      "Label Counts: {0: 1014, 1: 1014, 2: 952, 3: 1016, 4: 997, 5: 1025, 6: 980, 7: 977, 8: 1003, 9: 1022}\n",
      "First 20 Labels: [1, 8, 5, 1, 5, 7, 4, 3, 8, 2, 7, 2, 0, 1, 5, 9, 6, 2, 0, 8]\n",
      "\n",
      "Example of Image 4:\n",
      "Image - Min Value: 2 Max Value: 248\n",
      "Image - Shape: (32, 32, 3)\n",
      "Label - Label Id: 5 Name: dog\n"
     ]
    },
    {
     "data": {
      "image/png": "[encoded data removed]",
      "text/plain": [
       "<matplotlib.figure.Figure at 0x20bfd475c50>"
      ]
     },
     "metadata": {
      "image/png": {
       "height": 250,
       "width": 253
      }
     },
     "output_type": "display_data"
    }
   ],
   "source": [
    "%matplotlib inline\n",
    "%config InlineBackend.figure_format = 'retina'\n",
    "\n",
    "import helper\n",
    "import numpy as np\n",
    "\n",
    "# Explore the dataset\n",
    "batch_id = 5\n",
    "sample_id = 4\n",
    "helper.display_stats(cifar10_dataset_folder_path, batch_id, sample_id)"
   ]
  },
  {
   "cell_type": "markdown",
   "metadata": {},
   "source": [
    "## Implement Preprocess Functions\n",
    "### Normalize\n",
    "In the cell below, implement the `normalize` function to take in image data, `x`, and return it as a normalized Numpy array. The values should be in the range of 0 to 1, inclusive.  The return object should be the same shape as `x`."
   ]
  },
  {
   "cell_type": "code",
   "execution_count": 3,
   "metadata": {
    "collapsed": false
   },
   "outputs": [
    {
     "name": "stdout",
     "output_type": "stream",
     "text": [
      "Tests Passed\n"
     ]
    }
   ],
   "source": [
    "def normalize(x):\n",
    "    \"\"\"\n",
    "    Normalize a list of sample image data in the range of 0 to 1\n",
    "    : x: List of image data.  The image shape is (32, 32, 3)\n",
    "    : return: Numpy array of normalize data\n",
    "    \"\"\"\n",
    "    # TODO: Implement Function\n",
    "    return x / 255\n",
    "\n",
    "\n",
    "\"\"\"\n",
    "DON'T MODIFY ANYTHING IN THIS CELL THAT IS BELOW THIS LINE\n",
    "\"\"\"\n",
    "tests.test_normalize(normalize)"
   ]
  },
  {
   "cell_type": "markdown",
   "metadata": {},
   "source": [
    "### One-hot encode\n",
    "Just like the previous code cell, you'll be implementing a function for preprocessing.  This time, you'll implement the `one_hot_encode` function. The input, `x`, are a list of labels.  Implement the function to return the list of labels as One-Hot encoded Numpy array.  The possible values for labels are 0 to 9. The one-hot encoding function should return the same encoding for each value between each call to `one_hot_encode`.  Make sure to save the map of encodings outside the function.\n",
    "\n",
    "Hint: Don't reinvent the wheel."
   ]
  },
  {
   "cell_type": "code",
   "execution_count": 4,
   "metadata": {
    "collapsed": false
   },
   "outputs": [
    {
     "name": "stdout",
     "output_type": "stream",
     "text": [
      "Tests Passed\n"
     ]
    }
   ],
   "source": [
    "from sklearn import preprocessing\n",
    "\n",
    "def one_hot_encode(x):\n",
    "    \"\"\"\n",
    "    One hot encode a list of sample labels. Return a one-hot encoded vector for each label.\n",
    "    : x: List of sample Labels\n",
    "    : return: Numpy array of one-hot encoded labels\n",
    "    \"\"\"\n",
    "    # TODO: Implement Function\n",
    "    lb = preprocessing.LabelBinarizer()\n",
    "    lb.fit(np.array([10*[0],10*[0]]))\n",
    "    return lb.transform(x)\n",
    "\n",
    "\n",
    "\"\"\"\n",
    "DON'T MODIFY ANYTHING IN THIS CELL THAT IS BELOW THIS LINE\n",
    "\"\"\"\n",
    "tests.test_one_hot_encode(one_hot_encode)"
   ]
  },
  {
   "cell_type": "markdown",
   "metadata": {},
   "source": [
    "### Randomize Data\n",
    "As you saw from exploring the data above, the order of the samples are randomized.  It doesn't hurt to randomize it again, but you don't need to for this dataset."
   ]
  },
  {
   "cell_type": "markdown",
   "metadata": {},
   "source": [
    "## Preprocess all the data and save it\n",
    "Running the code cell below will preprocess all the CIFAR-10 data and save it to file. The code below also uses 10% of the training data for validation."
   ]
  },
  {
   "cell_type": "code",
   "execution_count": 5,
   "metadata": {
    "collapsed": true
   },
   "outputs": [],
   "source": [
    "\"\"\"\n",
    "DON'T MODIFY ANYTHING IN THIS CELL\n",
    "\"\"\"\n",
    "# Preprocess Training, Validation, and Testing Data\n",
    "helper.preprocess_and_save_data(cifar10_dataset_folder_path, normalize, one_hot_encode)"
   ]
  },
  {
   "cell_type": "markdown",
   "metadata": {},
   "source": [
    "# Check Point\n",
    "This is your first checkpoint.  If you ever decide to come back to this notebook or have to restart the notebook, you can start from here.  The preprocessed data has been saved to disk."
   ]
  },
  {
   "cell_type": "code",
   "execution_count": 1,
   "metadata": {
    "collapsed": true
   },
   "outputs": [],
   "source": [
    "\"\"\"\n",
    "DON'T MODIFY ANYTHING IN THIS CELL\n",
    "\"\"\"\n",
    "import pickle\n",
    "import problem_unittests as tests\n",
    "import helper\n",
    "\n",
    "# Load the Preprocessed Validation data\n",
    "valid_features, valid_labels = pickle.load(open('preprocess_validation.p', mode='rb'))"
   ]
  },
  {
   "cell_type": "markdown",
   "metadata": {},
   "source": [
    "## Build the network\n",
    "For the neural network, you'll build each layer into a function.  Most of the code you've seen has been outside of functions. To test your code more thoroughly, we require that you put each layer in a function.  This allows us to give you better feedback and test for simple mistakes using our unittests before you submit your project.\n",
    "\n",
    ">**Note:** If you're finding it hard to dedicate enough time for this course each week, we've provided a small shortcut to this part of the project. In the next couple of problems, you'll have the option to use classes from the [TensorFlow Layers](https://www.tensorflow.org/api_docs/python/tf/layers) or [TensorFlow Layers (contrib)](https://www.tensorflow.org/api_guides/python/contrib.layers) packages to build each layer, except the layers you build in the \"Convolutional and Max Pooling Layer\" section.  TF Layers is similar to Keras's and TFLearn's abstraction to layers, so it's easy to pickup.\n",
    "\n",
    ">However, if you would like to get the most out of this course, try to solve all the problems _without_ using anything from the TF Layers packages. You **can** still use classes from other packages that happen to have the same name as ones you find in TF Layers! For example, instead of using the TF Layers version of the `conv2d` class, [tf.layers.conv2d](https://www.tensorflow.org/api_docs/python/tf/layers/conv2d), you would want to use the TF Neural Network version of `conv2d`, [tf.nn.conv2d](https://www.tensorflow.org/api_docs/python/tf/nn/conv2d). \n",
    "\n",
    "Let's begin!\n",
    "\n",
    "### Input\n",
    "The neural network needs to read the image data, one-hot encoded labels, and dropout keep probability. Implement the following functions\n",
    "* Implement `neural_net_image_input`\n",
    " * Return a [TF Placeholder](https://www.tensorflow.org/api_docs/python/tf/placeholder)\n",
    " * Set the shape using `image_shape` with batch size set to `None`.\n",
    " * Name the TensorFlow placeholder \"x\" using the TensorFlow `name` parameter in the [TF Placeholder](https://www.tensorflow.org/api_docs/python/tf/placeholder).\n",
    "* Implement `neural_net_label_input`\n",
    " * Return a [TF Placeholder](https://www.tensorflow.org/api_docs/python/tf/placeholder)\n",
    " * Set the shape using `n_classes` with batch size set to `None`.\n",
    " * Name the TensorFlow placeholder \"y\" using the TensorFlow `name` parameter in the [TF Placeholder](https://www.tensorflow.org/api_docs/python/tf/placeholder).\n",
    "* Implement `neural_net_keep_prob_input`\n",
    " * Return a [TF Placeholder](https://www.tensorflow.org/api_docs/python/tf/placeholder) for dropout keep probability.\n",
    " * Name the TensorFlow placeholder \"keep_prob\" using the TensorFlow `name` parameter in the [TF Placeholder](https://www.tensorflow.org/api_docs/python/tf/placeholder).\n",
    "\n",
    "These names will be used at the end of the project to load your saved model.\n",
    "\n",
    "Note: `None` for shapes in TensorFlow allow for a dynamic size."
   ]
  },
  {
   "cell_type": "code",
   "execution_count": 2,
   "metadata": {
    "collapsed": false
   },
   "outputs": [
    {
     "name": "stdout",
     "output_type": "stream",
     "text": [
      "Image Input Tests Passed.\n",
      "Label Input Tests Passed.\n",
      "Keep Prob Tests Passed.\n"
     ]
    }
   ],
   "source": [
    "import tensorflow as tf\n",
    "\n",
    "def neural_net_image_input(image_shape):\n",
    "    \"\"\"\n",
    "    Return a Tensor for a batch of image input\n",
    "    : image_shape: Shape of the images\n",
    "    : return: Tensor for image input.\n",
    "    \"\"\"\n",
    "    # TODO: Implement Function\n",
    "    return tf.placeholder(tf.float32, shape=[None, image_shape[0], image_shape[1], image_shape[2]], name='x')\n",
    "\n",
    "\n",
    "def neural_net_label_input(n_classes):\n",
    "    \"\"\"\n",
    "    Return a Tensor for a batch of label input\n",
    "    : n_classes: Number of classes\n",
    "    : return: Tensor for label input.\n",
    "    \"\"\"\n",
    "    # TODO: Implement Function\n",
    "    return tf.placeholder(tf.float32, shape=[None, n_classes], name='y')\n",
    "\n",
    "\n",
    "def neural_net_keep_prob_input():\n",
    "    \"\"\"\n",
    "    Return a Tensor for keep probability\n",
    "    : return: Tensor for keep probability.\n",
    "    \"\"\"\n",
    "    # TODO: Implement Function\n",
    "    return tf.placeholder(tf.float32, name='keep_prob')\n",
    "\n",
    "\n",
    "\"\"\"\n",
    "DON'T MODIFY ANYTHING IN THIS CELL THAT IS BELOW THIS LINE\n",
    "\"\"\"\n",
    "tf.reset_default_graph()\n",
    "tests.test_nn_image_inputs(neural_net_image_input)\n",
    "tests.test_nn_label_inputs(neural_net_label_input)\n",
    "tests.test_nn_keep_prob_inputs(neural_net_keep_prob_input)"
   ]
  },
  {
   "cell_type": "markdown",
   "metadata": {},
   "source": [
    "### Convolution and Max Pooling Layer\n",
    "Convolution layers have a lot of success with images. For this code cell, you should implement the function `conv2d_maxpool` to apply convolution then max pooling:\n",
    "* Create the weight and bias using `conv_ksize`, `conv_num_outputs` and the shape of `x_tensor`.\n",
    "* Apply a convolution to `x_tensor` using weight and `conv_strides`.\n",
    " * We recommend you use same padding, but you're welcome to use any padding.\n",
    "* Add bias\n",
    "* Add a nonlinear activation to the convolution.\n",
    "* Apply Max Pooling using `pool_ksize` and `pool_strides`.\n",
    " * We recommend you use same padding, but you're welcome to use any padding.\n",
    "\n",
    "**Note:** You **can't** use [TensorFlow Layers](https://www.tensorflow.org/api_docs/python/tf/layers) or [TensorFlow Layers (contrib)](https://www.tensorflow.org/api_guides/python/contrib.layers) for **this** layer, but you can still use TensorFlow's [Neural Network](https://www.tensorflow.org/api_docs/python/tf/nn) package. You may still use the shortcut option for all the **other** layers."
   ]
  },
  {
   "cell_type": "code",
   "execution_count": 3,
   "metadata": {
    "collapsed": false
   },
   "outputs": [
    {
     "name": "stdout",
     "output_type": "stream",
     "text": [
      "Tests Passed\n"
     ]
    }
   ],
   "source": [
    "def conv2d_maxpool(x_tensor, conv_num_outputs, conv_ksize, conv_strides, pool_ksize, pool_strides):\n",
    "    \"\"\"\n",
    "    Apply convolution then max pooling to x_tensor\n",
    "    :param x_tensor: TensorFlow Tensor\n",
    "    :param conv_num_outputs: Number of outputs for the convolutional layer\n",
    "    :param conv_ksize: kernal size 2-D Tuple for the convolutional layer\n",
    "    :param conv_strides: Stride 2-D Tuple for convolution\n",
    "    :param pool_ksize: kernal size 2-D Tuple for pool\n",
    "    :param pool_strides: Stride 2-D Tuple for pool\n",
    "    : return: A tensor that represents convolution and max pooling of x_tensor\n",
    "    \"\"\"\n",
    "    # TODO: Implement Function\n",
    "    weight = tf.Variable(tf.random_normal([conv_ksize[0], conv_ksize[1], x_tensor.get_shape().as_list()[3], conv_num_outputs], mean=0.0, stddev=0.1))\n",
    "    bias = tf.Variable(tf.zeros([conv_num_outputs]))    \n",
    "    x = tf.nn.conv2d(x_tensor, weight, strides=[1, conv_strides[0], conv_strides[1], 1], padding='SAME')\n",
    "    x = tf.nn.bias_add(x, bias) \n",
    "    x = tf.nn.relu(x)\n",
    "    return tf.nn.max_pool(x, ksize=[1, pool_ksize[0], pool_ksize[1], 1], strides=[1, pool_strides[0], pool_strides[1], 1], padding='SAME')\n",
    "\n",
    "\"\"\"\n",
    "DON'T MODIFY ANYTHING IN THIS CELL THAT IS BELOW THIS LINE\n",
    "\"\"\"\n",
    "tests.test_con_pool(conv2d_maxpool)"
   ]
  },
  {
   "cell_type": "markdown",
   "metadata": {},
   "source": [
    "### Flatten Layer\n",
    "Implement the `flatten` function to change the dimension of `x_tensor` from a 4-D tensor to a 2-D tensor.  The output should be the shape (*Batch Size*, *Flattened Image Size*). Shortcut option: you can use classes from the [TensorFlow Layers](https://www.tensorflow.org/api_docs/python/tf/layers) or [TensorFlow Layers (contrib)](https://www.tensorflow.org/api_guides/python/contrib.layers) packages for this layer. For more of a challenge, only use other TensorFlow packages."
   ]
  },
  {
   "cell_type": "code",
   "execution_count": 4,
   "metadata": {
    "collapsed": false
   },
   "outputs": [
    {
     "name": "stdout",
     "output_type": "stream",
     "text": [
      "Tests Passed\n"
     ]
    }
   ],
   "source": [
    "def flatten(x_tensor):\n",
    "    \"\"\"\n",
    "    Flatten x_tensor to (Batch Size, Flattened Image Size)\n",
    "    : x_tensor: A tensor of size (Batch Size, ...), where ... are the image dimensions.\n",
    "    : return: A tensor of size (Batch Size, Flattened Image Size).\n",
    "    \"\"\"\n",
    "    # TODO: Implement Function\n",
    "    s = x_tensor.get_shape().as_list()\n",
    "    return tf.reshape(x_tensor, [-1, s[1]*s[2]*s[3]])\n",
    "\n",
    "\n",
    "\"\"\"\n",
    "DON'T MODIFY ANYTHING IN THIS CELL THAT IS BELOW THIS LINE\n",
    "\"\"\"\n",
    "tests.test_flatten(flatten)"
   ]
  },
  {
   "cell_type": "markdown",
   "metadata": {},
   "source": [
    "### Fully-Connected Layer\n",
    "Implement the `fully_conn` function to apply a fully connected layer to `x_tensor` with the shape (*Batch Size*, *num_outputs*). Shortcut option: you can use classes from the [TensorFlow Layers](https://www.tensorflow.org/api_docs/python/tf/layers) or [TensorFlow Layers (contrib)](https://www.tensorflow.org/api_guides/python/contrib.layers) packages for this layer. For more of a challenge, only use other TensorFlow packages."
   ]
  },
  {
   "cell_type": "code",
   "execution_count": 5,
   "metadata": {
    "collapsed": false
   },
   "outputs": [
    {
     "name": "stdout",
     "output_type": "stream",
     "text": [
      "Tests Passed\n"
     ]
    }
   ],
   "source": [
    "def fully_conn(x_tensor, num_outputs):\n",
    "    \"\"\"\n",
    "    Apply a fully connected layer to x_tensor using weight and bias\n",
    "    : x_tensor: A 2-D tensor where the first dimension is batch size.\n",
    "    : num_outputs: The number of output that the new tensor should be.\n",
    "    : return: A 2-D tensor where the second dimension is num_outputs.\n",
    "    \"\"\"\n",
    "    # TODO: Implement Function\n",
    "    wfc = tf.Variable(tf.random_normal([x_tensor.get_shape().as_list()[1], num_outputs], mean=0.0, stddev=0.1))\n",
    "    dfc = tf.Variable(tf.zeros([num_outputs]))  \n",
    "    fc = tf.add(tf.matmul(x_tensor, wfc), dfc)   \n",
    "    return tf.nn.relu(fc)\n",
    "\n",
    "\n",
    "\"\"\"\n",
    "DON'T MODIFY ANYTHING IN THIS CELL THAT IS BELOW THIS LINE\n",
    "\"\"\"\n",
    "tests.test_fully_conn(fully_conn)"
   ]
  },
  {
   "cell_type": "markdown",
   "metadata": {},
   "source": [
    "### Output Layer\n",
    "Implement the `output` function to apply a fully connected layer to `x_tensor` with the shape (*Batch Size*, *num_outputs*). Shortcut option: you can use classes from the [TensorFlow Layers](https://www.tensorflow.org/api_docs/python/tf/layers) or [TensorFlow Layers (contrib)](https://www.tensorflow.org/api_guides/python/contrib.layers) packages for this layer. For more of a challenge, only use other TensorFlow packages.\n",
    "\n",
    "**Note:** Activation, softmax, or cross entropy should **not** be applied to this."
   ]
  },
  {
   "cell_type": "code",
   "execution_count": 6,
   "metadata": {
    "collapsed": false
   },
   "outputs": [
    {
     "name": "stdout",
     "output_type": "stream",
     "text": [
      "Tests Passed\n"
     ]
    }
   ],
   "source": [
    "def output(x_tensor, num_outputs):\n",
    "    \"\"\"\n",
    "    Apply a output layer to x_tensor using weight and bias\n",
    "    : x_tensor: A 2-D tensor where the first dimension is batch size.\n",
    "    : num_outputs: The number of output that the new tensor should be.\n",
    "    : return: A 2-D tensor where the second dimension is num_outputs.\n",
    "    \"\"\"\n",
    "    # TODO: Implement Function\n",
    "    wout = tf.Variable(tf.random_normal([x_tensor.get_shape().as_list()[1], num_outputs], mean=0.0, stddev=0.1))\n",
    "    dout = tf.Variable(tf.zeros([num_outputs]))   \n",
    "    return tf.add(tf.matmul(x_tensor, wout), dout)\n",
    "\n",
    "\n",
    "\"\"\"\n",
    "DON'T MODIFY ANYTHING IN THIS CELL THAT IS BELOW THIS LINE\n",
    "\"\"\"\n",
    "tests.test_output(output)"
   ]
  },
  {
   "cell_type": "markdown",
   "metadata": {},
   "source": [
    "### Create Convolutional Model\n",
    "Implement the function `conv_net` to create a convolutional neural network model. The function takes in a batch of images, `x`, and outputs logits.  Use the layers you created above to create this model:\n",
    "\n",
    "* Apply 1, 2, or 3 Convolution and Max Pool layers\n",
    "* Apply a Flatten Layer\n",
    "* Apply 1, 2, or 3 Fully Connected Layers\n",
    "* Apply an Output Layer\n",
    "* Return the output\n",
    "* Apply [TensorFlow's Dropout](https://www.tensorflow.org/api_docs/python/tf/nn/dropout) to one or more layers in the model using `keep_prob`. "
   ]
  },
  {
   "cell_type": "code",
   "execution_count": 7,
   "metadata": {
    "collapsed": false
   },
   "outputs": [
    {
     "name": "stdout",
     "output_type": "stream",
     "text": [
      "Neural Network Built!\n"
     ]
    }
   ],
   "source": [
    "def conv_net(x, keep_prob):\n",
    "    \"\"\"\n",
    "    Create a convolutional neural network model\n",
    "    : x: Placeholder tensor that holds image data.\n",
    "    : keep_prob: Placeholder tensor that hold dropout keep probability.\n",
    "    : return: Tensor that represents logits\n",
    "    \"\"\"\n",
    "    # TODO: Apply 1, 2, or 3 Convolution and Max Pool layers\n",
    "    #    Play around with different number of outputs, kernel size and stride\n",
    "    # Function Definition from Above:\n",
    "    #    conv2d_maxpool(x_tensor, conv_num_outputs, conv_ksize, conv_strides, pool_ksize, pool_strides)\n",
    "    conv = conv2d_maxpool(x, conv_num_outputs=32, conv_ksize=(5,5), conv_strides=(2,2), pool_ksize=(2,2), pool_strides=(2,2))\n",
    "    conv = conv2d_maxpool(conv, conv_num_outputs=64, conv_ksize=(3,3), conv_strides=(2,2), pool_ksize=(2,2), pool_strides=(2,2))\n",
    "\n",
    "    # TODO: Apply a Flatten Layer\n",
    "    # Function Definition from Above:\n",
    "    #   flatten(x_tensor)\n",
    "    x_tensor = flatten(conv)\n",
    "\n",
    "    # TODO: Apply 1, 2, or 3 Fully Connected Layers\n",
    "    #    Play around with different number of outputs\n",
    "    # Function Definition from Above:\n",
    "    #   fully_conn(x_tensor, num_outputs)\n",
    "    fc = fully_conn(x_tensor, 64)\n",
    "    fc = tf.nn.dropout(fc, keep_prob)\n",
    "    fc = fully_conn(fc, 64//2)\n",
    "    \n",
    "    # TODO: Apply an Output Layer\n",
    "    #    Set this to the number of classes\n",
    "    # Function Definition from Above:\n",
    "    #   output(x_tensor, num_outputs)\n",
    "    out = output(fc, num_outputs = y.get_shape().as_list()[1])\n",
    "    \n",
    "    # TODO: return output\n",
    "    return out\n",
    "\n",
    "\n",
    "\"\"\"\n",
    "DON'T MODIFY ANYTHING IN THIS CELL THAT IS BELOW THIS LINE\n",
    "\"\"\"\n",
    "\n",
    "##############################\n",
    "## Build the Neural Network ##\n",
    "##############################\n",
    "\n",
    "# Remove previous weights, bias, inputs, etc..\n",
    "tf.reset_default_graph()\n",
    "\n",
    "# Inputs\n",
    "x = neural_net_image_input((32, 32, 3))\n",
    "y = neural_net_label_input(10)\n",
    "keep_prob = neural_net_keep_prob_input()\n",
    "\n",
    "# Model\n",
    "logits = conv_net(x, keep_prob)\n",
    "\n",
    "# Name logits Tensor, so that is can be loaded from disk after training\n",
    "logits = tf.identity(logits, name='logits')\n",
    "\n",
    "# Loss and Optimizer\n",
    "cost = tf.reduce_mean(tf.nn.softmax_cross_entropy_with_logits(logits=logits, labels=y))\n",
    "optimizer = tf.train.AdamOptimizer().minimize(cost)\n",
    "\n",
    "# Accuracy\n",
    "correct_pred = tf.equal(tf.argmax(logits, 1), tf.argmax(y, 1))\n",
    "accuracy = tf.reduce_mean(tf.cast(correct_pred, tf.float32), name='accuracy')\n",
    "\n",
    "tests.test_conv_net(conv_net)"
   ]
  },
  {
   "cell_type": "markdown",
   "metadata": {},
   "source": [
    "## Train the Neural Network\n",
    "### Single Optimization\n",
    "Implement the function `train_neural_network` to do a single optimization.  The optimization should use `optimizer` to optimize in `session` with a `feed_dict` of the following:\n",
    "* `x` for image input\n",
    "* `y` for labels\n",
    "* `keep_prob` for keep probability for dropout\n",
    "\n",
    "This function will be called for each batch, so `tf.global_variables_initializer()` has already been called.\n",
    "\n",
    "Note: Nothing needs to be returned. This function is only optimizing the neural network."
   ]
  },
  {
   "cell_type": "code",
   "execution_count": 8,
   "metadata": {
    "collapsed": false
   },
   "outputs": [
    {
     "name": "stdout",
     "output_type": "stream",
     "text": [
      "Tests Passed\n"
     ]
    }
   ],
   "source": [
    "def train_neural_network(session, optimizer, keep_probability, feature_batch, label_batch):\n",
    "    \"\"\"\n",
    "    Optimize the session on a batch of images and labels\n",
    "    : session: Current TensorFlow session\n",
    "    : optimizer: TensorFlow optimizer function\n",
    "    : keep_probability: keep probability\n",
    "    : feature_batch: Batch of Numpy image data\n",
    "    : label_batch: Batch of Numpy label data\n",
    "    \"\"\"\n",
    "    # TODO: Implement Function\n",
    "    session.run(optimizer, feed_dict={\n",
    "            x: feature_batch,\n",
    "            y: label_batch,\n",
    "            keep_prob: keep_probability})\n",
    "\n",
    "\n",
    "\"\"\"\n",
    "DON'T MODIFY ANYTHING IN THIS CELL THAT IS BELOW THIS LINE\n",
    "\"\"\"\n",
    "tests.test_train_nn(train_neural_network)"
   ]
  },
  {
   "cell_type": "markdown",
   "metadata": {},
   "source": [
    "### Show Stats\n",
    "Implement the function `print_stats` to print loss and validation accuracy.  Use the global variables `valid_features` and `valid_labels` to calculate validation accuracy.  Use a keep probability of `1.0` to calculate the loss and validation accuracy."
   ]
  },
  {
   "cell_type": "code",
   "execution_count": 9,
   "metadata": {
    "collapsed": true
   },
   "outputs": [],
   "source": [
    "def print_stats(session, feature_batch, label_batch, cost, accuracy):\n",
    "    \"\"\"\n",
    "    Print information about loss and validation accuracy\n",
    "    : session: Current TensorFlow session\n",
    "    : feature_batch: Batch of Numpy image data\n",
    "    : label_batch: Batch of Numpy label data\n",
    "    : cost: TensorFlow cost function\n",
    "    : accuracy: TensorFlow accuracy function\n",
    "    \"\"\"\n",
    "    # TODO: Implement Function\n",
    "    loss = session.run(cost, feed_dict={\n",
    "            x: feature_batch,\n",
    "            y: label_batch,\n",
    "            keep_prob: 1.})\n",
    "    valid_acc = session.run(accuracy, feed_dict={\n",
    "            x: valid_features,\n",
    "            y: valid_labels,\n",
    "            keep_prob: 1.})\n",
    "                \n",
    "    print('Loss: {:10.4f} Validation Accuracy: {:.6f}'.format(loss, valid_acc))"
   ]
  },
  {
   "cell_type": "markdown",
   "metadata": {},
   "source": [
    "### Hyperparameters\n",
    "Tune the following parameters:\n",
    "* Set `epochs` to the number of iterations until the network stops learning or start overfitting\n",
    "* Set `batch_size` to the highest number that your machine has memory for.  Most people set them to common sizes of memory:\n",
    " * 64\n",
    " * 128\n",
    " * 256\n",
    " * ...\n",
    "* Set `keep_probability` to the probability of keeping a node using dropout"
   ]
  },
  {
   "cell_type": "code",
   "execution_count": 11,
   "metadata": {
    "collapsed": true
   },
   "outputs": [],
   "source": [
    "# TODO: Tune Parameters\n",
    "epochs = 50\n",
    "batch_size = 128\n",
    "keep_probability = 0.50"
   ]
  },
  {
   "cell_type": "markdown",
   "metadata": {},
   "source": [
    "### Train on a Single CIFAR-10 Batch\n",
    "Instead of training the neural network on all the CIFAR-10 batches of data, let's use a single batch. This should save time while you iterate on the model to get a better accuracy.  Once the final validation accuracy is 50% or greater, run the model on all the data in the next section."
   ]
  },
  {
   "cell_type": "code",
   "execution_count": 11,
   "metadata": {
    "collapsed": false
   },
   "outputs": [
    {
     "name": "stdout",
     "output_type": "stream",
     "text": [
      "Checking the Training on a Single Batch...\n",
      "Epoch  1, CIFAR-10 Batch 1:  Loss:     2.2146 Validation Accuracy: 0.183800\n",
      "Epoch  2, CIFAR-10 Batch 1:  Loss:     2.1458 Validation Accuracy: 0.275000\n",
      "Epoch  3, CIFAR-10 Batch 1:  Loss:     2.0386 Validation Accuracy: 0.344800\n",
      "Epoch  4, CIFAR-10 Batch 1:  Loss:     1.9308 Validation Accuracy: 0.366600\n",
      "Epoch  5, CIFAR-10 Batch 1:  Loss:     1.8395 Validation Accuracy: 0.398600\n",
      "Epoch  6, CIFAR-10 Batch 1:  Loss:     1.7505 Validation Accuracy: 0.401400\n",
      "Epoch  7, CIFAR-10 Batch 1:  Loss:     1.7170 Validation Accuracy: 0.417400\n",
      "Epoch  8, CIFAR-10 Batch 1:  Loss:     1.5737 Validation Accuracy: 0.435800\n",
      "Epoch  9, CIFAR-10 Batch 1:  Loss:     1.5439 Validation Accuracy: 0.417200\n",
      "Epoch 10, CIFAR-10 Batch 1:  Loss:     1.4742 Validation Accuracy: 0.437600\n",
      "Epoch 11, CIFAR-10 Batch 1:  Loss:     1.4187 Validation Accuracy: 0.454000\n",
      "Epoch 12, CIFAR-10 Batch 1:  Loss:     1.3806 Validation Accuracy: 0.452000\n",
      "Epoch 13, CIFAR-10 Batch 1:  Loss:     1.3155 Validation Accuracy: 0.464000\n",
      "Epoch 14, CIFAR-10 Batch 1:  Loss:     1.2691 Validation Accuracy: 0.467400\n",
      "Epoch 15, CIFAR-10 Batch 1:  Loss:     1.2466 Validation Accuracy: 0.485200\n",
      "Epoch 16, CIFAR-10 Batch 1:  Loss:     1.1841 Validation Accuracy: 0.478400\n",
      "Epoch 17, CIFAR-10 Batch 1:  Loss:     1.1217 Validation Accuracy: 0.495200\n",
      "Epoch 18, CIFAR-10 Batch 1:  Loss:     1.0956 Validation Accuracy: 0.495600\n",
      "Epoch 19, CIFAR-10 Batch 1:  Loss:     1.0602 Validation Accuracy: 0.497200\n",
      "Epoch 20, CIFAR-10 Batch 1:  Loss:     1.0850 Validation Accuracy: 0.490400\n",
      "Epoch 21, CIFAR-10 Batch 1:  Loss:     1.0236 Validation Accuracy: 0.504600\n",
      "Epoch 22, CIFAR-10 Batch 1:  Loss:     1.0377 Validation Accuracy: 0.496600\n",
      "Epoch 23, CIFAR-10 Batch 1:  Loss:     0.9433 Validation Accuracy: 0.516000\n",
      "Epoch 24, CIFAR-10 Batch 1:  Loss:     0.9896 Validation Accuracy: 0.519400\n",
      "Epoch 25, CIFAR-10 Batch 1:  Loss:     0.9576 Validation Accuracy: 0.497000\n",
      "Epoch 26, CIFAR-10 Batch 1:  Loss:     0.8885 Validation Accuracy: 0.514600\n",
      "Epoch 27, CIFAR-10 Batch 1:  Loss:     0.8746 Validation Accuracy: 0.503200\n",
      "Epoch 28, CIFAR-10 Batch 1:  Loss:     0.8776 Validation Accuracy: 0.513000\n",
      "Epoch 29, CIFAR-10 Batch 1:  Loss:     0.8391 Validation Accuracy: 0.507400\n",
      "Epoch 30, CIFAR-10 Batch 1:  Loss:     0.7836 Validation Accuracy: 0.523000\n",
      "Epoch 31, CIFAR-10 Batch 1:  Loss:     0.8237 Validation Accuracy: 0.527200\n",
      "Epoch 32, CIFAR-10 Batch 1:  Loss:     0.7795 Validation Accuracy: 0.525800\n",
      "Epoch 33, CIFAR-10 Batch 1:  Loss:     0.7892 Validation Accuracy: 0.525200\n",
      "Epoch 34, CIFAR-10 Batch 1:  Loss:     0.8098 Validation Accuracy: 0.535000\n",
      "Epoch 35, CIFAR-10 Batch 1:  Loss:     0.7309 Validation Accuracy: 0.534200\n",
      "Epoch 36, CIFAR-10 Batch 1:  Loss:     0.7219 Validation Accuracy: 0.539000\n",
      "Epoch 37, CIFAR-10 Batch 1:  Loss:     0.6875 Validation Accuracy: 0.531000\n",
      "Epoch 38, CIFAR-10 Batch 1:  Loss:     0.6842 Validation Accuracy: 0.521400\n",
      "Epoch 39, CIFAR-10 Batch 1:  Loss:     0.6607 Validation Accuracy: 0.522600\n",
      "Epoch 40, CIFAR-10 Batch 1:  Loss:     0.6675 Validation Accuracy: 0.527400\n",
      "Epoch 41, CIFAR-10 Batch 1:  Loss:     0.6509 Validation Accuracy: 0.525600\n",
      "Epoch 42, CIFAR-10 Batch 1:  Loss:     0.6275 Validation Accuracy: 0.536200\n",
      "Epoch 43, CIFAR-10 Batch 1:  Loss:     0.5845 Validation Accuracy: 0.525800\n",
      "Epoch 44, CIFAR-10 Batch 1:  Loss:     0.6330 Validation Accuracy: 0.521200\n",
      "Epoch 45, CIFAR-10 Batch 1:  Loss:     0.6164 Validation Accuracy: 0.529000\n",
      "Epoch 46, CIFAR-10 Batch 1:  Loss:     0.5798 Validation Accuracy: 0.530000\n",
      "Epoch 47, CIFAR-10 Batch 1:  Loss:     0.6230 Validation Accuracy: 0.528600\n",
      "Epoch 48, CIFAR-10 Batch 1:  Loss:     0.5907 Validation Accuracy: 0.534400\n",
      "Epoch 49, CIFAR-10 Batch 1:  Loss:     0.5359 Validation Accuracy: 0.542400\n",
      "Epoch 50, CIFAR-10 Batch 1:  Loss:     0.5690 Validation Accuracy: 0.541400\n"
     ]
    }
   ],
   "source": [
    "\"\"\"\n",
    "DON'T MODIFY ANYTHING IN THIS CELL\n",
    "\"\"\"\n",
    "print('Checking the Training on a Single Batch...')\n",
    "with tf.Session() as sess:\n",
    "    # Initializing the variables\n",
    "    sess.run(tf.global_variables_initializer())\n",
    "    \n",
    "    # Training cycle\n",
    "    for epoch in range(epochs):\n",
    "        batch_i = 1\n",
    "        for batch_features, batch_labels in helper.load_preprocess_training_batch(batch_i, batch_size):\n",
    "            train_neural_network(sess, optimizer, keep_probability, batch_features, batch_labels)\n",
    "        print('Epoch {:>2}, CIFAR-10 Batch {}:  '.format(epoch + 1, batch_i), end='')\n",
    "        print_stats(sess, batch_features, batch_labels, cost, accuracy)"
   ]
  },
  {
   "cell_type": "markdown",
   "metadata": {},
   "source": [
    "### Fully Train the Model\n",
    "Now that you got a good accuracy with a single CIFAR-10 batch, try it with all five batches."
   ]
  },
  {
   "cell_type": "code",
   "execution_count": 12,
   "metadata": {
    "collapsed": false
   },
   "outputs": [
    {
     "name": "stdout",
     "output_type": "stream",
     "text": [
      "Training...\n",
      "Epoch  1, CIFAR-10 Batch 1:  Loss:     2.1866 Validation Accuracy: 0.225200\n",
      "Epoch  1, CIFAR-10 Batch 2:  Loss:     1.9665 Validation Accuracy: 0.312600\n",
      "Epoch  1, CIFAR-10 Batch 3:  Loss:     1.7862 Validation Accuracy: 0.326600\n",
      "Epoch  1, CIFAR-10 Batch 4:  Loss:     1.7190 Validation Accuracy: 0.364400\n",
      "Epoch  1, CIFAR-10 Batch 5:  Loss:     1.7506 Validation Accuracy: 0.389200\n",
      "Epoch  2, CIFAR-10 Batch 1:  Loss:     1.8515 Validation Accuracy: 0.395400\n",
      "Epoch  2, CIFAR-10 Batch 2:  Loss:     1.7141 Validation Accuracy: 0.416800\n",
      "Epoch  2, CIFAR-10 Batch 3:  Loss:     1.3729 Validation Accuracy: 0.429600\n",
      "Epoch  2, CIFAR-10 Batch 4:  Loss:     1.5308 Validation Accuracy: 0.443200\n",
      "Epoch  2, CIFAR-10 Batch 5:  Loss:     1.5694 Validation Accuracy: 0.449600\n",
      "Epoch  3, CIFAR-10 Batch 1:  Loss:     1.6193 Validation Accuracy: 0.452200\n",
      "Epoch  3, CIFAR-10 Batch 2:  Loss:     1.5386 Validation Accuracy: 0.457200\n",
      "Epoch  3, CIFAR-10 Batch 3:  Loss:     1.1741 Validation Accuracy: 0.458600\n",
      "Epoch  3, CIFAR-10 Batch 4:  Loss:     1.4626 Validation Accuracy: 0.477800\n",
      "Epoch  3, CIFAR-10 Batch 5:  Loss:     1.4598 Validation Accuracy: 0.479400\n",
      "Epoch  4, CIFAR-10 Batch 1:  Loss:     1.4611 Validation Accuracy: 0.494400\n",
      "Epoch  4, CIFAR-10 Batch 2:  Loss:     1.4607 Validation Accuracy: 0.472600\n",
      "Epoch  4, CIFAR-10 Batch 3:  Loss:     1.0976 Validation Accuracy: 0.482000\n",
      "Epoch  4, CIFAR-10 Batch 4:  Loss:     1.3982 Validation Accuracy: 0.507000\n",
      "Epoch  4, CIFAR-10 Batch 5:  Loss:     1.4107 Validation Accuracy: 0.484200\n",
      "Epoch  5, CIFAR-10 Batch 1:  Loss:     1.3140 Validation Accuracy: 0.511600\n",
      "Epoch  5, CIFAR-10 Batch 2:  Loss:     1.3791 Validation Accuracy: 0.499400\n",
      "Epoch  5, CIFAR-10 Batch 3:  Loss:     0.9929 Validation Accuracy: 0.507000\n",
      "Epoch  5, CIFAR-10 Batch 4:  Loss:     1.2992 Validation Accuracy: 0.523400\n",
      "Epoch  5, CIFAR-10 Batch 5:  Loss:     1.3427 Validation Accuracy: 0.507000\n",
      "Epoch  6, CIFAR-10 Batch 1:  Loss:     1.2345 Validation Accuracy: 0.526800\n",
      "Epoch  6, CIFAR-10 Batch 2:  Loss:     1.2925 Validation Accuracy: 0.517400\n",
      "Epoch  6, CIFAR-10 Batch 3:  Loss:     0.9043 Validation Accuracy: 0.526600\n",
      "Epoch  6, CIFAR-10 Batch 4:  Loss:     1.2313 Validation Accuracy: 0.544000\n",
      "Epoch  6, CIFAR-10 Batch 5:  Loss:     1.1954 Validation Accuracy: 0.527800\n",
      "Epoch  7, CIFAR-10 Batch 1:  Loss:     1.2539 Validation Accuracy: 0.539200\n",
      "Epoch  7, CIFAR-10 Batch 2:  Loss:     1.2706 Validation Accuracy: 0.537400\n",
      "Epoch  7, CIFAR-10 Batch 3:  Loss:     0.8492 Validation Accuracy: 0.534400\n",
      "Epoch  7, CIFAR-10 Batch 4:  Loss:     1.2196 Validation Accuracy: 0.551800\n",
      "Epoch  7, CIFAR-10 Batch 5:  Loss:     1.1438 Validation Accuracy: 0.535600\n",
      "Epoch  8, CIFAR-10 Batch 1:  Loss:     1.1758 Validation Accuracy: 0.547600\n",
      "Epoch  8, CIFAR-10 Batch 2:  Loss:     1.1403 Validation Accuracy: 0.550800\n",
      "Epoch  8, CIFAR-10 Batch 3:  Loss:     0.7983 Validation Accuracy: 0.544200\n",
      "Epoch  8, CIFAR-10 Batch 4:  Loss:     1.1711 Validation Accuracy: 0.558600\n",
      "Epoch  8, CIFAR-10 Batch 5:  Loss:     1.0761 Validation Accuracy: 0.547000\n",
      "Epoch  9, CIFAR-10 Batch 1:  Loss:     1.1817 Validation Accuracy: 0.548200\n",
      "Epoch  9, CIFAR-10 Batch 2:  Loss:     1.1235 Validation Accuracy: 0.567600\n",
      "Epoch  9, CIFAR-10 Batch 3:  Loss:     0.7776 Validation Accuracy: 0.552800\n",
      "Epoch  9, CIFAR-10 Batch 4:  Loss:     1.1465 Validation Accuracy: 0.571400\n",
      "Epoch  9, CIFAR-10 Batch 5:  Loss:     1.0627 Validation Accuracy: 0.548800\n",
      "Epoch 10, CIFAR-10 Batch 1:  Loss:     1.1041 Validation Accuracy: 0.559400\n",
      "Epoch 10, CIFAR-10 Batch 2:  Loss:     1.0922 Validation Accuracy: 0.576000\n",
      "Epoch 10, CIFAR-10 Batch 3:  Loss:     0.7635 Validation Accuracy: 0.551600\n",
      "Epoch 10, CIFAR-10 Batch 4:  Loss:     1.0913 Validation Accuracy: 0.577200\n",
      "Epoch 10, CIFAR-10 Batch 5:  Loss:     0.9839 Validation Accuracy: 0.550000\n",
      "Epoch 11, CIFAR-10 Batch 1:  Loss:     1.0646 Validation Accuracy: 0.556800\n",
      "Epoch 11, CIFAR-10 Batch 2:  Loss:     1.0607 Validation Accuracy: 0.577200\n",
      "Epoch 11, CIFAR-10 Batch 3:  Loss:     0.7744 Validation Accuracy: 0.558200\n",
      "Epoch 11, CIFAR-10 Batch 4:  Loss:     1.0784 Validation Accuracy: 0.589000\n",
      "Epoch 11, CIFAR-10 Batch 5:  Loss:     0.9065 Validation Accuracy: 0.575800\n",
      "Epoch 12, CIFAR-10 Batch 1:  Loss:     1.0450 Validation Accuracy: 0.561200\n",
      "Epoch 12, CIFAR-10 Batch 2:  Loss:     1.0728 Validation Accuracy: 0.583800\n",
      "Epoch 12, CIFAR-10 Batch 3:  Loss:     0.7071 Validation Accuracy: 0.566200\n",
      "Epoch 12, CIFAR-10 Batch 4:  Loss:     1.0720 Validation Accuracy: 0.592400\n",
      "Epoch 12, CIFAR-10 Batch 5:  Loss:     0.8787 Validation Accuracy: 0.582000\n",
      "Epoch 13, CIFAR-10 Batch 1:  Loss:     0.9771 Validation Accuracy: 0.573000\n",
      "Epoch 13, CIFAR-10 Batch 2:  Loss:     0.9997 Validation Accuracy: 0.596400\n",
      "Epoch 13, CIFAR-10 Batch 3:  Loss:     0.6727 Validation Accuracy: 0.575800\n",
      "Epoch 13, CIFAR-10 Batch 4:  Loss:     1.0380 Validation Accuracy: 0.603000\n",
      "Epoch 13, CIFAR-10 Batch 5:  Loss:     0.8119 Validation Accuracy: 0.582800\n",
      "Epoch 14, CIFAR-10 Batch 1:  Loss:     0.9562 Validation Accuracy: 0.575800\n",
      "Epoch 14, CIFAR-10 Batch 2:  Loss:     0.9858 Validation Accuracy: 0.599800\n",
      "Epoch 14, CIFAR-10 Batch 3:  Loss:     0.6579 Validation Accuracy: 0.578200\n",
      "Epoch 14, CIFAR-10 Batch 4:  Loss:     0.9558 Validation Accuracy: 0.615400\n",
      "Epoch 14, CIFAR-10 Batch 5:  Loss:     0.8253 Validation Accuracy: 0.584600\n",
      "Epoch 15, CIFAR-10 Batch 1:  Loss:     0.9505 Validation Accuracy: 0.584400\n",
      "Epoch 15, CIFAR-10 Batch 2:  Loss:     0.9432 Validation Accuracy: 0.593400\n",
      "Epoch 15, CIFAR-10 Batch 3:  Loss:     0.6325 Validation Accuracy: 0.587400\n",
      "Epoch 15, CIFAR-10 Batch 4:  Loss:     1.0270 Validation Accuracy: 0.598200\n",
      "Epoch 15, CIFAR-10 Batch 5:  Loss:     0.8013 Validation Accuracy: 0.578600\n",
      "Epoch 16, CIFAR-10 Batch 1:  Loss:     0.8912 Validation Accuracy: 0.577600\n",
      "Epoch 16, CIFAR-10 Batch 2:  Loss:     0.8652 Validation Accuracy: 0.599200\n",
      "Epoch 16, CIFAR-10 Batch 3:  Loss:     0.6510 Validation Accuracy: 0.582400\n",
      "Epoch 16, CIFAR-10 Batch 4:  Loss:     0.9471 Validation Accuracy: 0.600600\n",
      "Epoch 16, CIFAR-10 Batch 5:  Loss:     0.7489 Validation Accuracy: 0.591000\n",
      "Epoch 17, CIFAR-10 Batch 1:  Loss:     0.8443 Validation Accuracy: 0.587000\n",
      "Epoch 17, CIFAR-10 Batch 2:  Loss:     0.8222 Validation Accuracy: 0.618000\n",
      "Epoch 17, CIFAR-10 Batch 3:  Loss:     0.6007 Validation Accuracy: 0.586000\n",
      "Epoch 17, CIFAR-10 Batch 4:  Loss:     0.9246 Validation Accuracy: 0.616000\n",
      "Epoch 17, CIFAR-10 Batch 5:  Loss:     0.7008 Validation Accuracy: 0.602000\n",
      "Epoch 18, CIFAR-10 Batch 1:  Loss:     0.8893 Validation Accuracy: 0.595800\n",
      "Epoch 18, CIFAR-10 Batch 2:  Loss:     0.7947 Validation Accuracy: 0.614000\n",
      "Epoch 18, CIFAR-10 Batch 3:  Loss:     0.5568 Validation Accuracy: 0.600600\n",
      "Epoch 18, CIFAR-10 Batch 4:  Loss:     0.9246 Validation Accuracy: 0.611600\n",
      "Epoch 18, CIFAR-10 Batch 5:  Loss:     0.6556 Validation Accuracy: 0.613800\n",
      "Epoch 19, CIFAR-10 Batch 1:  Loss:     0.8504 Validation Accuracy: 0.611000\n",
      "Epoch 19, CIFAR-10 Batch 2:  Loss:     0.7769 Validation Accuracy: 0.622000\n",
      "Epoch 19, CIFAR-10 Batch 3:  Loss:     0.5872 Validation Accuracy: 0.597000\n",
      "Epoch 19, CIFAR-10 Batch 4:  Loss:     0.8461 Validation Accuracy: 0.622800\n",
      "Epoch 19, CIFAR-10 Batch 5:  Loss:     0.7530 Validation Accuracy: 0.582200\n",
      "Epoch 20, CIFAR-10 Batch 1:  Loss:     0.8359 Validation Accuracy: 0.607800\n",
      "Epoch 20, CIFAR-10 Batch 2:  Loss:     0.7246 Validation Accuracy: 0.631400\n",
      "Epoch 20, CIFAR-10 Batch 3:  Loss:     0.5860 Validation Accuracy: 0.607800\n",
      "Epoch 20, CIFAR-10 Batch 4:  Loss:     0.8611 Validation Accuracy: 0.613200\n",
      "Epoch 20, CIFAR-10 Batch 5:  Loss:     0.6524 Validation Accuracy: 0.598800\n",
      "Epoch 21, CIFAR-10 Batch 1:  Loss:     0.7937 Validation Accuracy: 0.609600\n",
      "Epoch 21, CIFAR-10 Batch 2:  Loss:     0.7369 Validation Accuracy: 0.619200\n",
      "Epoch 21, CIFAR-10 Batch 3:  Loss:     0.5226 Validation Accuracy: 0.610400\n",
      "Epoch 21, CIFAR-10 Batch 4:  Loss:     0.8039 Validation Accuracy: 0.622400\n",
      "Epoch 21, CIFAR-10 Batch 5:  Loss:     0.5928 Validation Accuracy: 0.606400\n",
      "Epoch 22, CIFAR-10 Batch 1:  Loss:     0.7949 Validation Accuracy: 0.629600\n",
      "Epoch 22, CIFAR-10 Batch 2:  Loss:     0.7466 Validation Accuracy: 0.629000\n",
      "Epoch 22, CIFAR-10 Batch 3:  Loss:     0.5107 Validation Accuracy: 0.619400\n",
      "Epoch 22, CIFAR-10 Batch 4:  Loss:     0.7870 Validation Accuracy: 0.629000\n",
      "Epoch 22, CIFAR-10 Batch 5:  Loss:     0.5883 Validation Accuracy: 0.606800\n",
      "Epoch 23, CIFAR-10 Batch 1:  Loss:     0.7350 Validation Accuracy: 0.613800\n",
      "Epoch 23, CIFAR-10 Batch 2:  Loss:     0.6685 Validation Accuracy: 0.632800\n",
      "Epoch 23, CIFAR-10 Batch 3:  Loss:     0.5110 Validation Accuracy: 0.620600\n",
      "Epoch 23, CIFAR-10 Batch 4:  Loss:     0.8419 Validation Accuracy: 0.628800\n",
      "Epoch 23, CIFAR-10 Batch 5:  Loss:     0.6056 Validation Accuracy: 0.611600\n",
      "Epoch 24, CIFAR-10 Batch 1:  Loss:     0.7243 Validation Accuracy: 0.610800\n",
      "Epoch 24, CIFAR-10 Batch 2:  Loss:     0.6511 Validation Accuracy: 0.635400\n",
      "Epoch 24, CIFAR-10 Batch 3:  Loss:     0.4971 Validation Accuracy: 0.622800\n",
      "Epoch 24, CIFAR-10 Batch 4:  Loss:     0.7816 Validation Accuracy: 0.630600\n",
      "Epoch 24, CIFAR-10 Batch 5:  Loss:     0.5342 Validation Accuracy: 0.618000\n",
      "Epoch 25, CIFAR-10 Batch 1:  Loss:     0.7462 Validation Accuracy: 0.615200\n",
      "Epoch 25, CIFAR-10 Batch 2:  Loss:     0.6264 Validation Accuracy: 0.634800\n",
      "Epoch 25, CIFAR-10 Batch 3:  Loss:     0.4808 Validation Accuracy: 0.624200\n",
      "Epoch 25, CIFAR-10 Batch 4:  Loss:     0.7195 Validation Accuracy: 0.637400\n",
      "Epoch 25, CIFAR-10 Batch 5:  Loss:     0.5574 Validation Accuracy: 0.623400\n",
      "Epoch 26, CIFAR-10 Batch 1:  Loss:     0.6870 Validation Accuracy: 0.605600\n",
      "Epoch 26, CIFAR-10 Batch 2:  Loss:     0.6222 Validation Accuracy: 0.636800\n",
      "Epoch 26, CIFAR-10 Batch 3:  Loss:     0.5027 Validation Accuracy: 0.618400\n",
      "Epoch 26, CIFAR-10 Batch 4:  Loss:     0.7418 Validation Accuracy: 0.631800\n",
      "Epoch 26, CIFAR-10 Batch 5:  Loss:     0.5371 Validation Accuracy: 0.612000\n",
      "Epoch 27, CIFAR-10 Batch 1:  Loss:     0.7062 Validation Accuracy: 0.624000\n",
      "Epoch 27, CIFAR-10 Batch 2:  Loss:     0.5810 Validation Accuracy: 0.635200\n",
      "Epoch 27, CIFAR-10 Batch 3:  Loss:     0.4919 Validation Accuracy: 0.626400\n",
      "Epoch 27, CIFAR-10 Batch 4:  Loss:     0.7259 Validation Accuracy: 0.626800\n",
      "Epoch 27, CIFAR-10 Batch 5:  Loss:     0.4958 Validation Accuracy: 0.623000\n",
      "Epoch 28, CIFAR-10 Batch 1:  Loss:     0.6517 Validation Accuracy: 0.628800\n",
      "Epoch 28, CIFAR-10 Batch 2:  Loss:     0.5801 Validation Accuracy: 0.637000\n",
      "Epoch 28, CIFAR-10 Batch 3:  Loss:     0.4873 Validation Accuracy: 0.633200\n",
      "Epoch 28, CIFAR-10 Batch 4:  Loss:     0.6683 Validation Accuracy: 0.639400\n",
      "Epoch 28, CIFAR-10 Batch 5:  Loss:     0.4925 Validation Accuracy: 0.623800\n",
      "Epoch 29, CIFAR-10 Batch 1:  Loss:     0.6626 Validation Accuracy: 0.625000\n",
      "Epoch 29, CIFAR-10 Batch 2:  Loss:     0.5555 Validation Accuracy: 0.641000\n",
      "Epoch 29, CIFAR-10 Batch 3:  Loss:     0.4701 Validation Accuracy: 0.635400\n",
      "Epoch 29, CIFAR-10 Batch 4:  Loss:     0.6750 Validation Accuracy: 0.634800\n",
      "Epoch 29, CIFAR-10 Batch 5:  Loss:     0.4931 Validation Accuracy: 0.612400\n",
      "Epoch 30, CIFAR-10 Batch 1:  Loss:     0.6237 Validation Accuracy: 0.631600\n",
      "Epoch 30, CIFAR-10 Batch 2:  Loss:     0.5691 Validation Accuracy: 0.635200\n",
      "Epoch 30, CIFAR-10 Batch 3:  Loss:     0.4596 Validation Accuracy: 0.634000\n",
      "Epoch 30, CIFAR-10 Batch 4:  Loss:     0.5899 Validation Accuracy: 0.641000\n",
      "Epoch 30, CIFAR-10 Batch 5:  Loss:     0.4339 Validation Accuracy: 0.619000\n",
      "Epoch 31, CIFAR-10 Batch 1:  Loss:     0.6811 Validation Accuracy: 0.635800\n",
      "Epoch 31, CIFAR-10 Batch 2:  Loss:     0.5516 Validation Accuracy: 0.638000\n",
      "Epoch 31, CIFAR-10 Batch 3:  Loss:     0.4527 Validation Accuracy: 0.638600\n",
      "Epoch 31, CIFAR-10 Batch 4:  Loss:     0.6095 Validation Accuracy: 0.643000\n",
      "Epoch 31, CIFAR-10 Batch 5:  Loss:     0.4774 Validation Accuracy: 0.625400\n",
      "Epoch 32, CIFAR-10 Batch 1:  Loss:     0.6593 Validation Accuracy: 0.624800\n",
      "Epoch 32, CIFAR-10 Batch 2:  Loss:     0.5159 Validation Accuracy: 0.641600\n",
      "Epoch 32, CIFAR-10 Batch 3:  Loss:     0.4518 Validation Accuracy: 0.632400\n",
      "Epoch 32, CIFAR-10 Batch 4:  Loss:     0.6271 Validation Accuracy: 0.632800\n",
      "Epoch 32, CIFAR-10 Batch 5:  Loss:     0.4406 Validation Accuracy: 0.625800\n",
      "Epoch 33, CIFAR-10 Batch 1:  Loss:     0.6036 Validation Accuracy: 0.611800\n",
      "Epoch 33, CIFAR-10 Batch 2:  Loss:     0.4837 Validation Accuracy: 0.642200\n",
      "Epoch 33, CIFAR-10 Batch 3:  Loss:     0.4399 Validation Accuracy: 0.633600\n",
      "Epoch 33, CIFAR-10 Batch 4:  Loss:     0.5848 Validation Accuracy: 0.641000\n",
      "Epoch 33, CIFAR-10 Batch 5:  Loss:     0.4771 Validation Accuracy: 0.631600\n",
      "Epoch 34, CIFAR-10 Batch 1:  Loss:     0.5642 Validation Accuracy: 0.632000\n",
      "Epoch 34, CIFAR-10 Batch 2:  Loss:     0.5158 Validation Accuracy: 0.639400\n",
      "Epoch 34, CIFAR-10 Batch 3:  Loss:     0.4411 Validation Accuracy: 0.633400\n",
      "Epoch 34, CIFAR-10 Batch 4:  Loss:     0.6336 Validation Accuracy: 0.638800\n",
      "Epoch 34, CIFAR-10 Batch 5:  Loss:     0.4685 Validation Accuracy: 0.624600\n",
      "Epoch 35, CIFAR-10 Batch 1:  Loss:     0.6137 Validation Accuracy: 0.633400\n",
      "Epoch 35, CIFAR-10 Batch 2:  Loss:     0.5224 Validation Accuracy: 0.635400\n",
      "Epoch 35, CIFAR-10 Batch 3:  Loss:     0.4234 Validation Accuracy: 0.632600\n",
      "Epoch 35, CIFAR-10 Batch 4:  Loss:     0.5590 Validation Accuracy: 0.637200\n",
      "Epoch 35, CIFAR-10 Batch 5:  Loss:     0.4062 Validation Accuracy: 0.637600\n",
      "Epoch 36, CIFAR-10 Batch 1:  Loss:     0.6599 Validation Accuracy: 0.636000\n",
      "Epoch 36, CIFAR-10 Batch 2:  Loss:     0.4337 Validation Accuracy: 0.636200\n",
      "Epoch 36, CIFAR-10 Batch 3:  Loss:     0.4104 Validation Accuracy: 0.623200\n",
      "Epoch 36, CIFAR-10 Batch 4:  Loss:     0.5816 Validation Accuracy: 0.651200\n",
      "Epoch 36, CIFAR-10 Batch 5:  Loss:     0.4063 Validation Accuracy: 0.636600\n",
      "Epoch 37, CIFAR-10 Batch 1:  Loss:     0.5823 Validation Accuracy: 0.636200\n",
      "Epoch 37, CIFAR-10 Batch 2:  Loss:     0.4714 Validation Accuracy: 0.645600\n",
      "Epoch 37, CIFAR-10 Batch 3:  Loss:     0.3953 Validation Accuracy: 0.635800\n",
      "Epoch 37, CIFAR-10 Batch 4:  Loss:     0.6630 Validation Accuracy: 0.633000\n",
      "Epoch 37, CIFAR-10 Batch 5:  Loss:     0.4305 Validation Accuracy: 0.623400\n",
      "Epoch 38, CIFAR-10 Batch 1:  Loss:     0.6065 Validation Accuracy: 0.641000\n",
      "Epoch 38, CIFAR-10 Batch 2:  Loss:     0.4513 Validation Accuracy: 0.646200\n",
      "Epoch 38, CIFAR-10 Batch 3:  Loss:     0.3670 Validation Accuracy: 0.646000\n",
      "Epoch 38, CIFAR-10 Batch 4:  Loss:     0.5559 Validation Accuracy: 0.645400\n",
      "Epoch 38, CIFAR-10 Batch 5:  Loss:     0.4397 Validation Accuracy: 0.620200\n",
      "Epoch 39, CIFAR-10 Batch 1:  Loss:     0.6050 Validation Accuracy: 0.635000\n",
      "Epoch 39, CIFAR-10 Batch 2:  Loss:     0.4464 Validation Accuracy: 0.633400\n",
      "Epoch 39, CIFAR-10 Batch 3:  Loss:     0.3778 Validation Accuracy: 0.650000\n",
      "Epoch 39, CIFAR-10 Batch 4:  Loss:     0.5325 Validation Accuracy: 0.646000\n",
      "Epoch 39, CIFAR-10 Batch 5:  Loss:     0.4194 Validation Accuracy: 0.629200\n",
      "Epoch 40, CIFAR-10 Batch 1:  Loss:     0.6037 Validation Accuracy: 0.638400\n",
      "Epoch 40, CIFAR-10 Batch 2:  Loss:     0.4215 Validation Accuracy: 0.643400\n",
      "Epoch 40, CIFAR-10 Batch 3:  Loss:     0.4017 Validation Accuracy: 0.633800\n",
      "Epoch 40, CIFAR-10 Batch 4:  Loss:     0.5429 Validation Accuracy: 0.643200\n",
      "Epoch 40, CIFAR-10 Batch 5:  Loss:     0.4395 Validation Accuracy: 0.622200\n",
      "Epoch 41, CIFAR-10 Batch 1:  Loss:     0.6125 Validation Accuracy: 0.642800\n",
      "Epoch 41, CIFAR-10 Batch 2:  Loss:     0.4275 Validation Accuracy: 0.649600\n",
      "Epoch 41, CIFAR-10 Batch 3:  Loss:     0.3917 Validation Accuracy: 0.633000\n",
      "Epoch 41, CIFAR-10 Batch 4:  Loss:     0.5791 Validation Accuracy: 0.643400\n",
      "Epoch 41, CIFAR-10 Batch 5:  Loss:     0.4136 Validation Accuracy: 0.627600\n",
      "Epoch 42, CIFAR-10 Batch 1:  Loss:     0.6268 Validation Accuracy: 0.642600\n",
      "Epoch 42, CIFAR-10 Batch 2:  Loss:     0.4060 Validation Accuracy: 0.647600\n",
      "Epoch 42, CIFAR-10 Batch 3:  Loss:     0.4082 Validation Accuracy: 0.637200\n",
      "Epoch 42, CIFAR-10 Batch 4:  Loss:     0.5055 Validation Accuracy: 0.644600\n",
      "Epoch 42, CIFAR-10 Batch 5:  Loss:     0.3914 Validation Accuracy: 0.628600\n",
      "Epoch 43, CIFAR-10 Batch 1:  Loss:     0.7178 Validation Accuracy: 0.645400\n",
      "Epoch 43, CIFAR-10 Batch 2:  Loss:     0.4191 Validation Accuracy: 0.642600\n",
      "Epoch 43, CIFAR-10 Batch 3:  Loss:     0.3639 Validation Accuracy: 0.640400\n",
      "Epoch 43, CIFAR-10 Batch 4:  Loss:     0.5326 Validation Accuracy: 0.641600\n",
      "Epoch 43, CIFAR-10 Batch 5:  Loss:     0.4839 Validation Accuracy: 0.607200\n",
      "Epoch 44, CIFAR-10 Batch 1:  Loss:     0.6578 Validation Accuracy: 0.644000\n",
      "Epoch 44, CIFAR-10 Batch 2:  Loss:     0.4067 Validation Accuracy: 0.643600\n",
      "Epoch 44, CIFAR-10 Batch 3:  Loss:     0.3149 Validation Accuracy: 0.637600\n",
      "Epoch 44, CIFAR-10 Batch 4:  Loss:     0.4961 Validation Accuracy: 0.643600\n",
      "Epoch 44, CIFAR-10 Batch 5:  Loss:     0.4049 Validation Accuracy: 0.612200\n",
      "Epoch 45, CIFAR-10 Batch 1:  Loss:     0.6141 Validation Accuracy: 0.642400\n",
      "Epoch 45, CIFAR-10 Batch 2:  Loss:     0.3914 Validation Accuracy: 0.642600\n",
      "Epoch 45, CIFAR-10 Batch 3:  Loss:     0.3535 Validation Accuracy: 0.634200\n",
      "Epoch 45, CIFAR-10 Batch 4:  Loss:     0.4588 Validation Accuracy: 0.641600\n",
      "Epoch 45, CIFAR-10 Batch 5:  Loss:     0.3229 Validation Accuracy: 0.636000\n",
      "Epoch 46, CIFAR-10 Batch 1:  Loss:     0.6238 Validation Accuracy: 0.642000\n",
      "Epoch 46, CIFAR-10 Batch 2:  Loss:     0.4346 Validation Accuracy: 0.636400\n",
      "Epoch 46, CIFAR-10 Batch 3:  Loss:     0.2988 Validation Accuracy: 0.642400\n",
      "Epoch 46, CIFAR-10 Batch 4:  Loss:     0.4920 Validation Accuracy: 0.642800\n",
      "Epoch 46, CIFAR-10 Batch 5:  Loss:     0.4079 Validation Accuracy: 0.630200\n",
      "Epoch 47, CIFAR-10 Batch 1:  Loss:     0.5486 Validation Accuracy: 0.641600\n",
      "Epoch 47, CIFAR-10 Batch 2:  Loss:     0.4130 Validation Accuracy: 0.642000\n",
      "Epoch 47, CIFAR-10 Batch 3:  Loss:     0.3431 Validation Accuracy: 0.639000\n",
      "Epoch 47, CIFAR-10 Batch 4:  Loss:     0.4670 Validation Accuracy: 0.645600\n",
      "Epoch 47, CIFAR-10 Batch 5:  Loss:     0.3643 Validation Accuracy: 0.634200\n",
      "Epoch 48, CIFAR-10 Batch 1:  Loss:     0.5686 Validation Accuracy: 0.631400\n",
      "Epoch 48, CIFAR-10 Batch 2:  Loss:     0.3775 Validation Accuracy: 0.647400\n",
      "Epoch 48, CIFAR-10 Batch 3:  Loss:     0.3601 Validation Accuracy: 0.637200\n",
      "Epoch 48, CIFAR-10 Batch 4:  Loss:     0.4786 Validation Accuracy: 0.641800\n",
      "Epoch 48, CIFAR-10 Batch 5:  Loss:     0.3806 Validation Accuracy: 0.639800\n",
      "Epoch 49, CIFAR-10 Batch 1:  Loss:     0.5344 Validation Accuracy: 0.635600\n",
      "Epoch 49, CIFAR-10 Batch 2:  Loss:     0.4149 Validation Accuracy: 0.639800\n",
      "Epoch 49, CIFAR-10 Batch 3:  Loss:     0.3455 Validation Accuracy: 0.633800\n",
      "Epoch 49, CIFAR-10 Batch 4:  Loss:     0.4964 Validation Accuracy: 0.639200\n",
      "Epoch 49, CIFAR-10 Batch 5:  Loss:     0.3765 Validation Accuracy: 0.632200\n",
      "Epoch 50, CIFAR-10 Batch 1:  Loss:     0.5691 Validation Accuracy: 0.645200\n",
      "Epoch 50, CIFAR-10 Batch 2:  Loss:     0.3772 Validation Accuracy: 0.649600\n",
      "Epoch 50, CIFAR-10 Batch 3:  Loss:     0.2971 Validation Accuracy: 0.645200\n",
      "Epoch 50, CIFAR-10 Batch 4:  Loss:     0.4425 Validation Accuracy: 0.649200\n",
      "Epoch 50, CIFAR-10 Batch 5:  Loss:     0.3698 Validation Accuracy: 0.613200\n"
     ]
    }
   ],
   "source": [
    "\"\"\"\n",
    "DON'T MODIFY ANYTHING IN THIS CELL\n",
    "\"\"\"\n",
    "save_model_path = './image_classification'\n",
    "\n",
    "print('Training...')\n",
    "with tf.Session() as sess:\n",
    "    # Initializing the variables\n",
    "    sess.run(tf.global_variables_initializer())\n",
    "    \n",
    "    # Training cycle\n",
    "    for epoch in range(epochs):\n",
    "        # Loop over all batches\n",
    "        n_batches = 5\n",
    "        for batch_i in range(1, n_batches + 1):\n",
    "            for batch_features, batch_labels in helper.load_preprocess_training_batch(batch_i, batch_size):\n",
    "                train_neural_network(sess, optimizer, keep_probability, batch_features, batch_labels)\n",
    "            print('Epoch {:>2}, CIFAR-10 Batch {}:  '.format(epoch + 1, batch_i), end='')\n",
    "            print_stats(sess, batch_features, batch_labels, cost, accuracy)\n",
    "            \n",
    "    # Save Model\n",
    "    saver = tf.train.Saver()\n",
    "    save_path = saver.save(sess, save_model_path)"
   ]
  },
  {
   "cell_type": "markdown",
   "metadata": {},
   "source": [
    "# Checkpoint\n",
    "The model has been saved to disk.\n",
    "## Test Model\n",
    "Test your model against the test dataset.  This will be your final accuracy. You should have an accuracy greater than 50%. If you don't, keep tweaking the model architecture and parameters."
   ]
  },
  {
   "cell_type": "code",
   "execution_count": 13,
   "metadata": {
    "collapsed": false
   },
   "outputs": [
    {
     "name": "stdout",
     "output_type": "stream",
     "text": [
      "Testing Accuracy: 0.6128362341772152\n",
      "\n"
     ]
    },
    {
     "data": {
      "image/png": "[encoded data removed]",
      "text/plain": [
       "<matplotlib.figure.Figure at 0x12e9f101ba8>"
      ]
     },
     "metadata": {
      "image/png": {
       "height": 319,
       "width": 355
      }
     },
     "output_type": "display_data"
    }
   ],
   "source": [
    "\"\"\"\n",
    "DON'T MODIFY ANYTHING IN THIS CELL\n",
    "\"\"\"\n",
    "%matplotlib inline\n",
    "%config InlineBackend.figure_format = 'retina'\n",
    "\n",
    "import tensorflow as tf\n",
    "import pickle\n",
    "import helper\n",
    "import random\n",
    "\n",
    "# Set batch size if not already set\n",
    "try:\n",
    "    if batch_size:\n",
    "        pass\n",
    "except NameError:\n",
    "    batch_size = 64\n",
    "\n",
    "save_model_path = './image_classification'\n",
    "n_samples = 4\n",
    "top_n_predictions = 3\n",
    "\n",
    "def test_model():\n",
    "    \"\"\"\n",
    "    Test the saved model against the test dataset\n",
    "    \"\"\"\n",
    "\n",
    "    test_features, test_labels = pickle.load(open('preprocess_test.p', mode='rb'))\n",
    "    loaded_graph = tf.Graph()\n",
    "\n",
    "    with tf.Session(graph=loaded_graph) as sess:\n",
    "        # Load model\n",
    "        loader = tf.train.import_meta_graph(save_model_path + '.meta')\n",
    "        loader.restore(sess, save_model_path)\n",
    "\n",
    "        # Get Tensors from loaded model\n",
    "        loaded_x = loaded_graph.get_tensor_by_name('x:0')\n",
    "        loaded_y = loaded_graph.get_tensor_by_name('y:0')\n",
    "        loaded_keep_prob = loaded_graph.get_tensor_by_name('keep_prob:0')\n",
    "        loaded_logits = loaded_graph.get_tensor_by_name('logits:0')\n",
    "        loaded_acc = loaded_graph.get_tensor_by_name('accuracy:0')\n",
    "        \n",
    "        # Get accuracy in batches for memory limitations\n",
    "        test_batch_acc_total = 0\n",
    "        test_batch_count = 0\n",
    "        \n",
    "        for test_feature_batch, test_label_batch in helper.batch_features_labels(test_features, test_labels, batch_size):\n",
    "            test_batch_acc_total += sess.run(\n",
    "                loaded_acc,\n",
    "                feed_dict={loaded_x: test_feature_batch, loaded_y: test_label_batch, loaded_keep_prob: 1.0})\n",
    "            test_batch_count += 1\n",
    "\n",
    "        print('Testing Accuracy: {}\\n'.format(test_batch_acc_total/test_batch_count))\n",
    "\n",
    "        # Print Random Samples\n",
    "        random_test_features, random_test_labels = tuple(zip(*random.sample(list(zip(test_features, test_labels)), n_samples)))\n",
    "        random_test_predictions = sess.run(\n",
    "            tf.nn.top_k(tf.nn.softmax(loaded_logits), top_n_predictions),\n",
    "            feed_dict={loaded_x: random_test_features, loaded_y: random_test_labels, loaded_keep_prob: 1.0})\n",
    "        helper.display_image_predictions(random_test_features, random_test_labels, random_test_predictions)\n",
    "\n",
    "\n",
    "test_model()"
   ]
  },
  {
   "cell_type": "markdown",
   "metadata": {},
   "source": [
    "## Why 50-80% Accuracy?\n",
    "You might be wondering why you can't get an accuracy any higher. First things first, 50% isn't bad for a simple CNN.  Pure guessing would get you 10% accuracy. However, you might notice people are getting scores [well above 80%](http://rodrigob.github.io/are_we_there_yet/build/classification_datasets_results.html#43494641522d3130).  That's because we haven't taught you all there is to know about neural networks. We still need to cover a few more techniques.\n",
    "## Submitting This Project\n",
    "When submitting this project, make sure to run all the cells before saving the notebook.  Save the notebook file as \"dlnd_image_classification.ipynb\" and save it as a HTML file under \"File\" -> \"Download as\".  Include the \"helper.py\" and \"problem_unittests.py\" files in your submission."
   ]
  }
 ],
 "metadata": {
  "anaconda-cloud": {},
  "kernelspec": {
   "display_name": "Python [conda env:style-transfer]",
   "language": "python",
   "name": "conda-env-style-transfer-py"
  },
  "language_info": {
   "codemirror_mode": {
    "name": "ipython",
    "version": 3
   },
   "file_extension": ".py",
   "mimetype": "text/x-python",
   "name": "python",
   "nbconvert_exporter": "python",
   "pygments_lexer": "ipython3",
   "version": "3.5.4"
  }
 },
 "nbformat": 4,
 "nbformat_minor": 1
}
